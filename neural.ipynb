{
 "cells": [
  {
   "cell_type": "code",
   "execution_count": 1,
   "metadata": {},
   "outputs": [],
   "source": [
    "import pandas as pd\n",
    "import numpy as np\n",
    "from sklearn.metrics import mean_absolute_percentage_error, accuracy_score, roc_auc_score, r2_score\n",
    "from window_ops.rolling import rolling_mean, rolling_max, rolling_min\n",
    "import holidays\n",
    "import seaborn as sns\n",
    "from sklearn.metrics import mean_absolute_error as mae\n",
    "from sklearn.metrics import mean_squared_error as mse\n",
    "import plotly.io as pio\n",
    "import plotly.graph_objects as go\n",
    "import math\n"
   ]
  },
  {
   "cell_type": "code",
   "execution_count": 2,
   "metadata": {},
   "outputs": [],
   "source": [
    "def sin_cos_transform(series, divisor=-1):\n",
    "    \"\"\"\n",
    "    Apply sin cos transformation to get cyclical features.\n",
    "\n",
    "    Args:\n",
    "        series (iterable): Series to transform\n",
    "        divisor (int): Divisor value. If it doesn't set, function gets max value of series.\n",
    "\n",
    "    Returns:\n",
    "        - sin_values (list) - Sin transformed values\n",
    "        - cos_values (list) - Cos transformed values\n",
    "    \"\"\"\n",
    "    if divisor == -1:\n",
    "        divisor = series.max()\n",
    "    sin_values = [math.sin((2 * math.pi * x) / divisor) for x in list(series)]\n",
    "    cos_values = [math.cos((2 * math.pi * x) / divisor) for x in list(series)]\n",
    "    return sin_values, cos_values"
   ]
  },
  {
   "cell_type": "code",
   "execution_count": 3,
   "metadata": {},
   "outputs": [],
   "source": [
    "# Function to check if a date is a US holiday\n",
    "def is_us_holiday(date):\n",
    "    us_holidays = holidays.US(years=date.year)\n",
    "    return date in us_holidays\n",
    "\n",
    "\n",
    "def create_features(df):\n",
    "    df = df.copy()\n",
    "    df.index = pd.to_datetime(df.index)\n",
    "    \n",
    "    df[\"day_of_week_sin\"], df[\"day_of_week_cos\"] = sin_cos_transform(df.index.dayofweek, divisor=7)\n",
    "    df[\"day_of_month_sin\"], df[\"day_of_month_cos\"] = sin_cos_transform(df.index.day, divisor=30)\n",
    "    df[\"month_sin\"], df[\"month_cos\"] = sin_cos_transform(df.index.month, divisor=12)\n",
    "\n",
    "\n",
    "    df['day_of_quarter'] = (df.index.dayofyear - 1) % 91 + 1\n",
    "    df['week_of_month'] = df.index.day // 7 + 1\n",
    "    df['quarter_of_year'] = df.index.quarter\n",
    "    df['week_of_year'] = df.index.isocalendar().week.astype('int32')\n",
    "    df[\"is_wknd\"] = df.index.weekday // 4\n",
    "    df['is_month_start'] = df.index.is_month_start.astype(int)\n",
    "    df['is_month_end'] = df.index.is_month_end.astype(int)\n",
    "    df['season'] = df['month'] % 12 // 3 + 1\n",
    "    df['lag7_births'] = df['births'].shift(periods=7)\n",
    "    df['lag14_births'] = df['births'].shift(periods=14)\n",
    "    df['lag4_births'] = df['births'].shift(periods=4)\n",
    "    df['lag6_births'] = df['births'].shift(periods=6)\n",
    "    df['births_diff7'] = df['births'].shift(7) - df['births'].shift(14)\n",
    "    window_size = 7\n",
    "    df['rolling_std'] = df['births'].rolling(window=window_size, min_periods=1, closed= \"left\").std()\n",
    "\n",
    "    # Calculate the rolling mean, max, and min for the relevant columns\n",
    "    df['rolling_mean'] = df['births'].rolling(window=window_size, min_periods=1, closed= \"left\").mean()\n",
    "    df['rolling_max'] = df['births'].rolling(window=window_size, min_periods=1, closed= \"left\").max()\n",
    "    df['rolling_min'] = df['births'].rolling(window=window_size, min_periods=1, closed= \"left\").min()\n",
    "    # Add 'is_us_holiday' column to DataFrame\n",
    "    df['is_us_holiday'] = df.index.map(is_us_holiday).astype(int)\n",
    "    return df\n"
   ]
  },
  {
   "cell_type": "code",
   "execution_count": 4,
   "metadata": {},
   "outputs": [],
   "source": [
    "df = pd.read_csv(\"Births2015.csv\")\n",
    "df = df.drop(columns = ['Unnamed: 0', 'wday'], axis = 1)\n",
    "df['date'] = pd.to_datetime(df['date'])\n",
    "df.describe()\n",
    "df = df.set_index('date')"
   ]
  },
  {
   "cell_type": "code",
   "execution_count": 5,
   "metadata": {},
   "outputs": [],
   "source": [
    "df  =create_features(df)"
   ]
  },
  {
   "cell_type": "code",
   "execution_count": 6,
   "metadata": {},
   "outputs": [],
   "source": [
    "df = df.dropna()"
   ]
  },
  {
   "cell_type": "code",
   "execution_count": 7,
   "metadata": {},
   "outputs": [],
   "source": [
    "FEATURES= ['day_of_week_sin', 'day_of_week_cos', 'day_of_month_sin',\n",
    "       'day_of_month_cos', 'month_sin', 'month_cos', 'day_of_quarter', 'is_wknd',\n",
    "       'lag7_births', 'lag14_births', 'rolling_std', 'rolling_mean',\n",
    "       'rolling_max', 'rolling_min', 'is_us_holiday']\n",
    "TARGET = 'births'"
   ]
  },
  {
   "cell_type": "code",
   "execution_count": 8,
   "metadata": {},
   "outputs": [],
   "source": [
    "train = df[:-60]\n",
    "val = df[-60:-30]\n",
    "test = df[-30:]"
   ]
  },
  {
   "cell_type": "code",
   "execution_count": 9,
   "metadata": {},
   "outputs": [],
   "source": [
    "X_train = train[FEATURES]\n",
    "y_train = train[TARGET]\n",
    "X_val = val[FEATURES]\n",
    "y_val = val[TARGET]\n",
    "X_test = test[FEATURES]\n",
    "y_test = test[TARGET]"
   ]
  },
  {
   "cell_type": "code",
   "execution_count": 10,
   "metadata": {},
   "outputs": [
    {
     "data": {
      "text/plain": [
       "13185"
      ]
     },
     "execution_count": 10,
     "metadata": {},
     "output_type": "execute_result"
    }
   ],
   "source": [
    "y_val.max()"
   ]
  },
  {
   "cell_type": "code",
   "execution_count": 90,
   "metadata": {},
   "outputs": [],
   "source": [
    "# normalize\n",
    "import torch\n",
    "import matplotlib.pyplot as plt\n",
    "import copy\n",
    "from sklearn.preprocessing import StandardScaler\n",
    "mScalar = StandardScaler()\n",
    "mScalar.fit(X_train)\n",
    "X_train_scaled = mScalar.fit_transform(X_train)\n",
    "X_val_scaled = mScalar.transform(X_val)\n",
    "X_test_scaled = mScalar.transform(X_test)\n",
    "\n",
    "X_train_tensor = torch.from_numpy(X_train_scaled).float()\n",
    "X_val_tensor = torch.from_numpy(X_val_scaled).float()\n",
    "X_test_tensor = torch.from_numpy(X_test_scaled).float()\n",
    "\n",
    "y_train_tensor = torch.from_numpy(y_train.values).float()/15000\n",
    "y_val_tensor = torch.from_numpy(y_val.values).float()/15000\n",
    "y_test_tensor = torch.from_numpy(y_test.values).float()/15000"
   ]
  },
  {
   "cell_type": "code",
   "execution_count": 91,
   "metadata": {},
   "outputs": [],
   "source": [
    "class mMLP(torch.nn.Module):\n",
    "    def __init__(self, input_dim, out_dim):\n",
    "        super(mMLP, self).__init__()\n",
    "        self.layer1 = torch.nn.Linear(input_dim, 64)\n",
    "        self.layer2 = torch.nn.Linear(64, 128)\n",
    "        self.layer3 = torch.nn.Linear(128, 32)\n",
    "        self.layer4 = torch.nn.Linear(32, 32)\n",
    "        self.layer5 = torch.nn.Linear(32, 16)\n",
    "        self.layer6 = torch.nn.Linear(16, out_dim)\n",
    "\n",
    "        self.act_func = torch.nn.ReLU()\n",
    "\n",
    "    def forward(self, x_):\n",
    "        out1 = self.layer1(x_)\n",
    "        out1 = self.act_func(out1)\n",
    "\n",
    "        out1 = self.layer2(out1)\n",
    "        out1 = self.act_func(out1)\n",
    "\n",
    "        out1 = self.layer3(out1)\n",
    "        out1 = self.act_func(out1)\n",
    "\n",
    "        out1 = self.layer4(out1)\n",
    "        out1 = self.act_func(out1)\n",
    "\n",
    "        out1 = self.layer5(out1)\n",
    "        out1 = self.act_func(out1)\n",
    "        \n",
    "        out1 = self.layer6(out1)\n",
    "        return out1"
   ]
  },
  {
   "cell_type": "code",
   "execution_count": 92,
   "metadata": {},
   "outputs": [
    {
     "data": {
      "text/plain": [
       "<bound method Module.parameters of mMLP(\n",
       "  (layer1): Linear(in_features=15, out_features=64, bias=True)\n",
       "  (layer2): Linear(in_features=64, out_features=128, bias=True)\n",
       "  (layer3): Linear(in_features=128, out_features=32, bias=True)\n",
       "  (layer4): Linear(in_features=32, out_features=32, bias=True)\n",
       "  (layer5): Linear(in_features=32, out_features=16, bias=True)\n",
       "  (layer6): Linear(in_features=16, out_features=1, bias=True)\n",
       "  (act_func): ReLU()\n",
       ")>"
      ]
     },
     "execution_count": 92,
     "metadata": {},
     "output_type": "execute_result"
    }
   ],
   "source": [
    "mModel.parameters"
   ]
  },
  {
   "cell_type": "code",
   "execution_count": 100,
   "metadata": {},
   "outputs": [
    {
     "name": "stderr",
     "output_type": "stream",
     "text": [
      "c:\\Users\\ipek\\Desktop\\staj-DATABOSS\\MLproject\\.env\\lib\\site-packages\\torch\\nn\\modules\\loss.py:536: UserWarning:\n",
      "\n",
      "Using a target size (torch.Size([291])) that is different to the input size (torch.Size([291, 1])). This will likely lead to incorrect results due to broadcasting. Please ensure they have the same size.\n",
      "\n",
      "c:\\Users\\ipek\\Desktop\\staj-DATABOSS\\MLproject\\.env\\lib\\site-packages\\torch\\nn\\modules\\loss.py:536: UserWarning:\n",
      "\n",
      "Using a target size (torch.Size([30])) that is different to the input size (torch.Size([30, 1])). This will likely lead to incorrect results due to broadcasting. Please ensure they have the same size.\n",
      "\n"
     ]
    },
    {
     "name": "stdout",
     "output_type": "stream",
     "text": [
      "epoch    0: train_loss: 0.29837590 val_loss: 0.29134384, min_val_loss is at epoch:    0, : 0.29134384\n",
      "epoch  100: train_loss: 0.28541136 val_loss: 0.27862534, min_val_loss is at epoch:  100, : 0.27862534\n",
      "epoch  200: train_loss: 0.27307129 val_loss: 0.26652443, min_val_loss is at epoch:  200, : 0.26652443\n",
      "epoch  300: train_loss: 0.26132247 val_loss: 0.25500837, min_val_loss is at epoch:  300, : 0.25500837\n",
      "epoch  400: train_loss: 0.25013331 val_loss: 0.24404632, min_val_loss is at epoch:  400, : 0.24404632\n",
      "epoch  500: train_loss: 0.23947559 val_loss: 0.23360977, min_val_loss is at epoch:  500, : 0.23360977\n",
      "epoch  600: train_loss: 0.22932236 val_loss: 0.22367242, min_val_loss is at epoch:  600, : 0.22367242\n",
      "epoch  700: train_loss: 0.21965022 val_loss: 0.21420623, min_val_loss is at epoch:  700, : 0.21420623\n",
      "epoch  800: train_loss: 0.21043499 val_loss: 0.20518868, min_val_loss is at epoch:  800, : 0.20518868\n",
      "epoch  900: train_loss: 0.20165300 val_loss: 0.19659950, min_val_loss is at epoch:  900, : 0.19659950\n",
      "epoch 1000: train_loss: 0.19328214 val_loss: 0.18841419, min_val_loss is at epoch: 1000, : 0.18841419\n",
      "epoch 1100: train_loss: 0.18530232 val_loss: 0.18061067, min_val_loss is at epoch: 1100, : 0.18061067\n",
      "epoch 1200: train_loss: 0.17769465 val_loss: 0.17317086, min_val_loss is at epoch: 1200, : 0.17317086\n",
      "epoch 1300: train_loss: 0.17043914 val_loss: 0.16608050, min_val_loss is at epoch: 1300, : 0.16608050\n",
      "epoch 1400: train_loss: 0.16352125 val_loss: 0.15932328, min_val_loss is at epoch: 1400, : 0.15932328\n",
      "epoch 1500: train_loss: 0.15692480 val_loss: 0.15288126, min_val_loss is at epoch: 1500, : 0.15288126\n",
      "epoch 1600: train_loss: 0.15063351 val_loss: 0.14674032, min_val_loss is at epoch: 1600, : 0.14674032\n",
      "epoch 1700: train_loss: 0.14463200 val_loss: 0.14088686, min_val_loss is at epoch: 1700, : 0.14088686\n",
      "epoch 1800: train_loss: 0.13890693 val_loss: 0.13530856, min_val_loss is at epoch: 1800, : 0.13530856\n",
      "epoch 1900: train_loss: 0.13344401 val_loss: 0.12999175, min_val_loss is at epoch: 1900, : 0.12999175\n",
      "epoch 2000: train_loss: 0.12823285 val_loss: 0.12492000, min_val_loss is at epoch: 2000, : 0.12492000\n",
      "epoch 2100: train_loss: 0.12326041 val_loss: 0.12008151, min_val_loss is at epoch: 2100, : 0.12008151\n",
      "epoch 2200: train_loss: 0.11851525 val_loss: 0.11546703, min_val_loss is at epoch: 2200, : 0.11546703\n",
      "epoch 2300: train_loss: 0.11398630 val_loss: 0.11106441, min_val_loss is at epoch: 2300, : 0.11106441\n",
      "epoch 2400: train_loss: 0.10966360 val_loss: 0.10686404, min_val_loss is at epoch: 2400, : 0.10686404\n",
      "epoch 2500: train_loss: 0.10553792 val_loss: 0.10285717, min_val_loss is at epoch: 2500, : 0.10285717\n",
      "epoch 2600: train_loss: 0.10160199 val_loss: 0.09903593, min_val_loss is at epoch: 2600, : 0.09903593\n",
      "epoch 2700: train_loss: 0.09784637 val_loss: 0.09539101, min_val_loss is at epoch: 2700, : 0.09539101\n",
      "epoch 2800: train_loss: 0.09426035 val_loss: 0.09191118, min_val_loss is at epoch: 2800, : 0.09191118\n",
      "epoch 2900: train_loss: 0.09083896 val_loss: 0.08859172, min_val_loss is at epoch: 2900, : 0.08859172\n",
      "epoch 3000: train_loss: 0.08757301 val_loss: 0.08542423, min_val_loss is at epoch: 3000, : 0.08542423\n",
      "epoch 3100: train_loss: 0.08445477 val_loss: 0.08240191, min_val_loss is at epoch: 3100, : 0.08240191\n",
      "epoch 3200: train_loss: 0.08147791 val_loss: 0.07951853, min_val_loss is at epoch: 3200, : 0.07951853\n",
      "epoch 3300: train_loss: 0.07863797 val_loss: 0.07676836, min_val_loss is at epoch: 3300, : 0.07676836\n",
      "epoch 3400: train_loss: 0.07592740 val_loss: 0.07414395, min_val_loss is at epoch: 3400, : 0.07414395\n",
      "epoch 3500: train_loss: 0.07333967 val_loss: 0.07164003, min_val_loss is at epoch: 3500, : 0.07164003\n",
      "epoch 3600: train_loss: 0.07086868 val_loss: 0.06925094, min_val_loss is at epoch: 3600, : 0.06925094\n",
      "epoch 3700: train_loss: 0.06851093 val_loss: 0.06697226, min_val_loss is at epoch: 3700, : 0.06697226\n",
      "epoch 3800: train_loss: 0.06626281 val_loss: 0.06479967, min_val_loss is at epoch: 3800, : 0.06479967\n",
      "epoch 3900: train_loss: 0.06411944 val_loss: 0.06272842, min_val_loss is at epoch: 3900, : 0.06272842\n",
      "epoch 4000: train_loss: 0.06207441 val_loss: 0.06075303, min_val_loss is at epoch: 4000, : 0.06075303\n",
      "epoch 4100: train_loss: 0.06012403 val_loss: 0.05886930, min_val_loss is at epoch: 4100, : 0.05886930\n",
      "epoch 4200: train_loss: 0.05826255 val_loss: 0.05707490, min_val_loss is at epoch: 4200, : 0.05707490\n",
      "epoch 4300: train_loss: 0.05648702 val_loss: 0.05536383, min_val_loss is at epoch: 4300, : 0.05536383\n",
      "epoch 4400: train_loss: 0.05479281 val_loss: 0.05373184, min_val_loss is at epoch: 4400, : 0.05373184\n",
      "epoch 4500: train_loss: 0.05317495 val_loss: 0.05217439, min_val_loss is at epoch: 4500, : 0.05217439\n",
      "epoch 4600: train_loss: 0.05163109 val_loss: 0.05068871, min_val_loss is at epoch: 4600, : 0.05068871\n",
      "epoch 4700: train_loss: 0.05015886 val_loss: 0.04927240, min_val_loss is at epoch: 4700, : 0.04927240\n",
      "epoch 4800: train_loss: 0.04875386 val_loss: 0.04792161, min_val_loss is at epoch: 4800, : 0.04792161\n",
      "epoch 4900: train_loss: 0.04741256 val_loss: 0.04663307, min_val_loss is at epoch: 4900, : 0.04663307\n",
      "epoch 5000: train_loss: 0.04613232 val_loss: 0.04540420, min_val_loss is at epoch: 5000, : 0.04540420\n",
      "epoch 5100: train_loss: 0.04491040 val_loss: 0.04423228, min_val_loss is at epoch: 5100, : 0.04423228\n",
      "epoch 5200: train_loss: 0.04374276 val_loss: 0.04311385, min_val_loss is at epoch: 5200, : 0.04311385\n",
      "epoch 5300: train_loss: 0.04262704 val_loss: 0.04204654, min_val_loss is at epoch: 5300, : 0.04204654\n",
      "epoch 5400: train_loss: 0.04156181 val_loss: 0.04102857, min_val_loss is at epoch: 5400, : 0.04102857\n",
      "epoch 5500: train_loss: 0.04054587 val_loss: 0.04005833, min_val_loss is at epoch: 5500, : 0.04005833\n",
      "epoch 5600: train_loss: 0.03957561 val_loss: 0.03913286, min_val_loss is at epoch: 5600, : 0.03913286\n",
      "epoch 5700: train_loss: 0.03864909 val_loss: 0.03825014, min_val_loss is at epoch: 5700, : 0.03825014\n",
      "epoch 5800: train_loss: 0.03776434 val_loss: 0.03740827, min_val_loss is at epoch: 5800, : 0.03740827\n",
      "epoch 5900: train_loss: 0.03691945 val_loss: 0.03660544, min_val_loss is at epoch: 5900, : 0.03660544\n",
      "epoch 6000: train_loss: 0.03611220 val_loss: 0.03583957, min_val_loss is at epoch: 6000, : 0.03583957\n",
      "epoch 6100: train_loss: 0.03534064 val_loss: 0.03510880, min_val_loss is at epoch: 6100, : 0.03510880\n",
      "epoch 6200: train_loss: 0.03460336 val_loss: 0.03441168, min_val_loss is at epoch: 6200, : 0.03441168\n",
      "epoch 6300: train_loss: 0.03389882 val_loss: 0.03374670, min_val_loss is at epoch: 6300, : 0.03374670\n",
      "epoch 6400: train_loss: 0.03322552 val_loss: 0.03311234, min_val_loss is at epoch: 6400, : 0.03311234\n",
      "epoch 6500: train_loss: 0.03258213 val_loss: 0.03250727, min_val_loss is at epoch: 6500, : 0.03250727\n",
      "epoch 6600: train_loss: 0.03196729 val_loss: 0.03193014, min_val_loss is at epoch: 6600, : 0.03193014\n",
      "epoch 6700: train_loss: 0.03137979 val_loss: 0.03137976, min_val_loss is at epoch: 6700, : 0.03137976\n",
      "epoch 6800: train_loss: 0.03081828 val_loss: 0.03085514, min_val_loss is at epoch: 6800, : 0.03085514\n",
      "epoch 6900: train_loss: 0.03028160 val_loss: 0.03035496, min_val_loss is at epoch: 6900, : 0.03035496\n",
      "epoch 7000: train_loss: 0.02976873 val_loss: 0.02987797, min_val_loss is at epoch: 7000, : 0.02987797\n",
      "epoch 7100: train_loss: 0.02927898 val_loss: 0.02942342, min_val_loss is at epoch: 7100, : 0.02942342\n",
      "epoch 7200: train_loss: 0.02881073 val_loss: 0.02898982, min_val_loss is at epoch: 7200, : 0.02898982\n",
      "epoch 7300: train_loss: 0.02836299 val_loss: 0.02857622, min_val_loss is at epoch: 7300, : 0.02857622\n",
      "epoch 7400: train_loss: 0.02793501 val_loss: 0.02818217, min_val_loss is at epoch: 7400, : 0.02818217\n",
      "epoch 7500: train_loss: 0.02752582 val_loss: 0.02780636, min_val_loss is at epoch: 7500, : 0.02780636\n",
      "epoch 7600: train_loss: 0.02713460 val_loss: 0.02744798, min_val_loss is at epoch: 7600, : 0.02744798\n",
      "epoch 7700: train_loss: 0.02676050 val_loss: 0.02710616, min_val_loss is at epoch: 7700, : 0.02710616\n",
      "epoch 7800: train_loss: 0.02640264 val_loss: 0.02678018, min_val_loss is at epoch: 7800, : 0.02678018\n",
      "epoch 7900: train_loss: 0.02606055 val_loss: 0.02646959, min_val_loss is at epoch: 7900, : 0.02646959\n",
      "epoch 8000: train_loss: 0.02573343 val_loss: 0.02617343, min_val_loss is at epoch: 8000, : 0.02617343\n",
      "epoch 8100: train_loss: 0.02542052 val_loss: 0.02589093, min_val_loss is at epoch: 8100, : 0.02589093\n",
      "epoch 8200: train_loss: 0.02512125 val_loss: 0.02562157, min_val_loss is at epoch: 8200, : 0.02562157\n",
      "epoch 8300: train_loss: 0.02483498 val_loss: 0.02536470, min_val_loss is at epoch: 8300, : 0.02536470\n",
      "epoch 8400: train_loss: 0.02456116 val_loss: 0.02511996, min_val_loss is at epoch: 8400, : 0.02511996\n",
      "epoch 8500: train_loss: 0.02429926 val_loss: 0.02488663, min_val_loss is at epoch: 8500, : 0.02488663\n",
      "epoch 8600: train_loss: 0.02404891 val_loss: 0.02466429, min_val_loss is at epoch: 8600, : 0.02466429\n",
      "epoch 8700: train_loss: 0.02380950 val_loss: 0.02445251, min_val_loss is at epoch: 8700, : 0.02445251\n",
      "epoch 8800: train_loss: 0.02358053 val_loss: 0.02425069, min_val_loss is at epoch: 8800, : 0.02425069\n",
      "epoch 8900: train_loss: 0.02336155 val_loss: 0.02405835, min_val_loss is at epoch: 8900, : 0.02405835\n",
      "epoch 9000: train_loss: 0.02315211 val_loss: 0.02387506, min_val_loss is at epoch: 9000, : 0.02387506\n",
      "epoch 9100: train_loss: 0.02295182 val_loss: 0.02370040, min_val_loss is at epoch: 9100, : 0.02370040\n",
      "epoch 9200: train_loss: 0.02276029 val_loss: 0.02353402, min_val_loss is at epoch: 9200, : 0.02353402\n",
      "epoch 9300: train_loss: 0.02257714 val_loss: 0.02337553, min_val_loss is at epoch: 9300, : 0.02337553\n",
      "epoch 9400: train_loss: 0.02240193 val_loss: 0.02322451, min_val_loss is at epoch: 9400, : 0.02322451\n",
      "epoch 9500: train_loss: 0.02223436 val_loss: 0.02308067, min_val_loss is at epoch: 9500, : 0.02308067\n",
      "epoch 9600: train_loss: 0.02207411 val_loss: 0.02294369, min_val_loss is at epoch: 9600, : 0.02294369\n",
      "epoch 9700: train_loss: 0.02192085 val_loss: 0.02281324, min_val_loss is at epoch: 9700, : 0.02281324\n",
      "epoch 9800: train_loss: 0.02177426 val_loss: 0.02268904, min_val_loss is at epoch: 9800, : 0.02268904\n",
      "epoch 9900: train_loss: 0.02163409 val_loss: 0.02257079, min_val_loss is at epoch: 9900, : 0.02257079\n"
     ]
    },
    {
     "data": {
      "image/png": "[encoded data removed]",
      "text/plain": [
       "<Figure size 640x480 with 1 Axes>"
      ]
     },
     "metadata": {},
     "output_type": "display_data"
    }
   ],
   "source": [
    "torch.manual_seed(42)\n",
    "mModel = mMLP(input_dim=15, out_dim=1)\n",
    "MAX_EPOCH = 10000\n",
    "mOptimizer = torch.optim.SGD(params=mModel.parameters(), lr=1e-4)\n",
    "mLoss = torch.nn.MSELoss()\n",
    "val_losses_list, train_losses_list = [], []\n",
    "best_model = None\n",
    "min_val_loss = np.inf\n",
    "for epoch_indx in range(MAX_EPOCH):\n",
    "    train_preds = mModel.forward(X_train_tensor)\n",
    "\n",
    "    \n",
    "    loss = mLoss(train_preds, y_train_tensor)\n",
    "    train_losses_list.append(loss.item())\n",
    "    if epoch_indx % 100 == 0:\n",
    "        print(f\"epoch {epoch_indx:4d}: train_loss: {loss.item():.8f}\", end=\" \")\n",
    "\n",
    "    mOptimizer.zero_grad()\n",
    "    loss.backward()\n",
    "    mOptimizer.step()\n",
    "\n",
    "    # validation\n",
    "    with torch.no_grad():\n",
    "        val_preds = mModel.forward(X_val_tensor)\n",
    "        val_loss = mLoss(val_preds, y_val_tensor)\n",
    "        val_losses_list.append(val_loss.item())\n",
    "        if epoch_indx % 100 == 0:\n",
    "            min_val_loss_index = np.argmin(np.asarray(val_losses_list))\n",
    "            min_val_loss = np.min(np.asarray(val_losses_list))\n",
    "            print(f\"val_loss: {val_loss.item():.8f}, min_val_loss is at epoch: {min_val_loss_index:4d}, : {min_val_loss:.8f}\")    \n",
    "        if min_val_loss > val_loss.item():\n",
    "            min_val_loss = val_loss.item()\n",
    "            best_model = copy.deepcopy(mModel)\n",
    "plt.plot(train_losses_list)\n",
    "plt.plot(val_losses_list)\n",
    "plt.show()"
   ]
  },
  {
   "cell_type": "code",
   "execution_count": 101,
   "metadata": {},
   "outputs": [
    {
     "data": {
      "application/vnd.plotly.v1+json": {
       "config": {
        "plotlyServerURL": "https://plot.ly"
       },
       "data": [
        {
         "line": {
          "color": "blue"
         },
         "name": "train_preds",
         "type": "scatter",
         "x": [
          "2015-01-15T00:00:00",
          "2015-01-16T00:00:00",
          "2015-01-17T00:00:00",
          "2015-01-18T00:00:00",
          "2015-01-19T00:00:00",
          "2015-01-20T00:00:00",
          "2015-01-21T00:00:00",
          "2015-01-22T00:00:00",
          "2015-01-23T00:00:00",
          "2015-01-24T00:00:00",
          "2015-01-25T00:00:00",
          "2015-01-26T00:00:00",
          "2015-01-27T00:00:00",
          "2015-01-28T00:00:00",
          "2015-01-29T00:00:00",
          "2015-01-30T00:00:00",
          "2015-01-31T00:00:00",
          "2015-02-01T00:00:00",
          "2015-02-02T00:00:00",
          "2015-02-03T00:00:00",
          "2015-02-04T00:00:00",
          "2015-02-05T00:00:00",
          "2015-02-06T00:00:00",
          "2015-02-07T00:00:00",
          "2015-02-08T00:00:00",
          "2015-02-09T00:00:00",
          "2015-02-10T00:00:00",
          "2015-02-11T00:00:00",
          "2015-02-12T00:00:00",
          "2015-02-13T00:00:00",
          "2015-02-14T00:00:00",
          "2015-02-15T00:00:00",
          "2015-02-16T00:00:00",
          "2015-02-17T00:00:00",
          "2015-02-18T00:00:00",
          "2015-02-19T00:00:00",
          "2015-02-20T00:00:00",
          "2015-02-21T00:00:00",
          "2015-02-22T00:00:00",
          "2015-02-23T00:00:00",
          "2015-02-24T00:00:00",
          "2015-02-25T00:00:00",
          "2015-02-26T00:00:00",
          "2015-02-27T00:00:00",
          "2015-02-28T00:00:00",
          "2015-03-01T00:00:00",
          "2015-03-02T00:00:00",
          "2015-03-03T00:00:00",
          "2015-03-04T00:00:00",
          "2015-03-05T00:00:00",
          "2015-03-06T00:00:00",
          "2015-03-07T00:00:00",
          "2015-03-08T00:00:00",
          "2015-03-09T00:00:00",
          "2015-03-10T00:00:00",
          "2015-03-11T00:00:00",
          "2015-03-12T00:00:00",
          "2015-03-13T00:00:00",
          "2015-03-14T00:00:00",
          "2015-03-15T00:00:00",
          "2015-03-16T00:00:00",
          "2015-03-17T00:00:00",
          "2015-03-18T00:00:00",
          "2015-03-19T00:00:00",
          "2015-03-20T00:00:00",
          "2015-03-21T00:00:00",
          "2015-03-22T00:00:00",
          "2015-03-23T00:00:00",
          "2015-03-24T00:00:00",
          "2015-03-25T00:00:00",
          "2015-03-26T00:00:00",
          "2015-03-27T00:00:00",
          "2015-03-28T00:00:00",
          "2015-03-29T00:00:00",
          "2015-03-30T00:00:00",
          "2015-03-31T00:00:00",
          "2015-04-01T00:00:00",
          "2015-04-02T00:00:00",
          "2015-04-03T00:00:00",
          "2015-04-04T00:00:00",
          "2015-04-05T00:00:00",
          "2015-04-06T00:00:00",
          "2015-04-07T00:00:00",
          "2015-04-08T00:00:00",
          "2015-04-09T00:00:00",
          "2015-04-10T00:00:00",
          "2015-04-11T00:00:00",
          "2015-04-12T00:00:00",
          "2015-04-13T00:00:00",
          "2015-04-14T00:00:00",
          "2015-04-15T00:00:00",
          "2015-04-16T00:00:00",
          "2015-04-17T00:00:00",
          "2015-04-18T00:00:00",
          "2015-04-19T00:00:00",
          "2015-04-20T00:00:00",
          "2015-04-21T00:00:00",
          "2015-04-22T00:00:00",
          "2015-04-23T00:00:00",
          "2015-04-24T00:00:00",
          "2015-04-25T00:00:00",
          "2015-04-26T00:00:00",
          "2015-04-27T00:00:00",
          "2015-04-28T00:00:00",
          "2015-04-29T00:00:00",
          "2015-04-30T00:00:00",
          "2015-05-01T00:00:00",
          "2015-05-02T00:00:00",
          "2015-05-03T00:00:00",
          "2015-05-04T00:00:00",
          "2015-05-05T00:00:00",
          "2015-05-06T00:00:00",
          "2015-05-07T00:00:00",
          "2015-05-08T00:00:00",
          "2015-05-09T00:00:00",
          "2015-05-10T00:00:00",
          "2015-05-11T00:00:00",
          "2015-05-12T00:00:00",
          "2015-05-13T00:00:00",
          "2015-05-14T00:00:00",
          "2015-05-15T00:00:00",
          "2015-05-16T00:00:00",
          "2015-05-17T00:00:00",
          "2015-05-18T00:00:00",
          "2015-05-19T00:00:00",
          "2015-05-20T00:00:00",
          "2015-05-21T00:00:00",
          "2015-05-22T00:00:00",
          "2015-05-23T00:00:00",
          "2015-05-24T00:00:00",
          "2015-05-25T00:00:00",
          "2015-05-26T00:00:00",
          "2015-05-27T00:00:00",
          "2015-05-28T00:00:00",
          "2015-05-29T00:00:00",
          "2015-05-30T00:00:00",
          "2015-05-31T00:00:00",
          "2015-06-01T00:00:00",
          "2015-06-02T00:00:00",
          "2015-06-03T00:00:00",
          "2015-06-04T00:00:00",
          "2015-06-05T00:00:00",
          "2015-06-06T00:00:00",
          "2015-06-07T00:00:00",
          "2015-06-08T00:00:00",
          "2015-06-09T00:00:00",
          "2015-06-10T00:00:00",
          "2015-06-11T00:00:00",
          "2015-06-12T00:00:00",
          "2015-06-13T00:00:00",
          "2015-06-14T00:00:00",
          "2015-06-15T00:00:00",
          "2015-06-16T00:00:00",
          "2015-06-17T00:00:00",
          "2015-06-18T00:00:00",
          "2015-06-19T00:00:00",
          "2015-06-20T00:00:00",
          "2015-06-21T00:00:00",
          "2015-06-22T00:00:00",
          "2015-06-23T00:00:00",
          "2015-06-24T00:00:00",
          "2015-06-25T00:00:00",
          "2015-06-26T00:00:00",
          "2015-06-27T00:00:00",
          "2015-06-28T00:00:00",
          "2015-06-29T00:00:00",
          "2015-06-30T00:00:00",
          "2015-07-01T00:00:00",
          "2015-07-02T00:00:00",
          "2015-07-03T00:00:00",
          "2015-07-04T00:00:00",
          "2015-07-05T00:00:00",
          "2015-07-06T00:00:00",
          "2015-07-07T00:00:00",
          "2015-07-08T00:00:00",
          "2015-07-09T00:00:00",
          "2015-07-10T00:00:00",
          "2015-07-11T00:00:00",
          "2015-07-12T00:00:00",
          "2015-07-13T00:00:00",
          "2015-07-14T00:00:00",
          "2015-07-15T00:00:00",
          "2015-07-16T00:00:00",
          "2015-07-17T00:00:00",
          "2015-07-18T00:00:00",
          "2015-07-19T00:00:00",
          "2015-07-20T00:00:00",
          "2015-07-21T00:00:00",
          "2015-07-22T00:00:00",
          "2015-07-23T00:00:00",
          "2015-07-24T00:00:00",
          "2015-07-25T00:00:00",
          "2015-07-26T00:00:00",
          "2015-07-27T00:00:00",
          "2015-07-28T00:00:00",
          "2015-07-29T00:00:00",
          "2015-07-30T00:00:00",
          "2015-07-31T00:00:00",
          "2015-08-01T00:00:00",
          "2015-08-02T00:00:00",
          "2015-08-03T00:00:00",
          "2015-08-04T00:00:00",
          "2015-08-05T00:00:00",
          "2015-08-06T00:00:00",
          "2015-08-07T00:00:00",
          "2015-08-08T00:00:00",
          "2015-08-09T00:00:00",
          "2015-08-10T00:00:00",
          "2015-08-11T00:00:00",
          "2015-08-12T00:00:00",
          "2015-08-13T00:00:00",
          "2015-08-14T00:00:00",
          "2015-08-15T00:00:00",
          "2015-08-16T00:00:00",
          "2015-08-17T00:00:00",
          "2015-08-18T00:00:00",
          "2015-08-19T00:00:00",
          "2015-08-20T00:00:00",
          "2015-08-21T00:00:00",
          "2015-08-22T00:00:00",
          "2015-08-23T00:00:00",
          "2015-08-24T00:00:00",
          "2015-08-25T00:00:00",
          "2015-08-26T00:00:00",
          "2015-08-27T00:00:00",
          "2015-08-28T00:00:00",
          "2015-08-29T00:00:00",
          "2015-08-30T00:00:00",
          "2015-08-31T00:00:00",
          "2015-09-01T00:00:00",
          "2015-09-02T00:00:00",
          "2015-09-03T00:00:00",
          "2015-09-04T00:00:00",
          "2015-09-05T00:00:00",
          "2015-09-06T00:00:00",
          "2015-09-07T00:00:00",
          "2015-09-08T00:00:00",
          "2015-09-09T00:00:00",
          "2015-09-10T00:00:00",
          "2015-09-11T00:00:00",
          "2015-09-12T00:00:00",
          "2015-09-13T00:00:00",
          "2015-09-14T00:00:00",
          "2015-09-15T00:00:00",
          "2015-09-16T00:00:00",
          "2015-09-17T00:00:00",
          "2015-09-18T00:00:00",
          "2015-09-19T00:00:00",
          "2015-09-20T00:00:00",
          "2015-09-21T00:00:00",
          "2015-09-22T00:00:00",
          "2015-09-23T00:00:00",
          "2015-09-24T00:00:00",
          "2015-09-25T00:00:00",
          "2015-09-26T00:00:00",
          "2015-09-27T00:00:00",
          "2015-09-28T00:00:00",
          "2015-09-29T00:00:00",
          "2015-09-30T00:00:00",
          "2015-10-01T00:00:00",
          "2015-10-02T00:00:00",
          "2015-10-03T00:00:00",
          "2015-10-04T00:00:00",
          "2015-10-05T00:00:00",
          "2015-10-06T00:00:00",
          "2015-10-07T00:00:00",
          "2015-10-08T00:00:00",
          "2015-10-09T00:00:00",
          "2015-10-10T00:00:00",
          "2015-10-11T00:00:00",
          "2015-10-12T00:00:00",
          "2015-10-13T00:00:00",
          "2015-10-14T00:00:00",
          "2015-10-15T00:00:00",
          "2015-10-16T00:00:00",
          "2015-10-17T00:00:00",
          "2015-10-18T00:00:00",
          "2015-10-19T00:00:00",
          "2015-10-20T00:00:00",
          "2015-10-21T00:00:00",
          "2015-10-22T00:00:00",
          "2015-10-23T00:00:00",
          "2015-10-24T00:00:00",
          "2015-10-25T00:00:00",
          "2015-10-26T00:00:00",
          "2015-10-27T00:00:00",
          "2015-10-28T00:00:00",
          "2015-10-29T00:00:00",
          "2015-10-30T00:00:00",
          "2015-10-31T00:00:00",
          "2015-11-01T00:00:00"
         ],
         "y": [
          10066.4423828125,
          10086.525390625,
          10116.6298828125,
          10122.048828125,
          10169.865234375,
          10158.3876953125,
          10119.6513671875,
          10073.5595703125,
          10064.3740234375,
          10114.7470703125,
          10137.0693359375,
          10094.7216796875,
          10094.56640625,
          10071.3583984375,
          10047.16796875,
          10104.4248046875,
          10112.4091796875,
          10129.3681640625,
          10135.2412109375,
          10139.205078125,
          10107.48046875,
          10090.201171875,
          10104.2578125,
          10116.1220703125,
          10127.0625,
          10136.1630859375,
          10146.080078125,
          10117.119140625,
          10109.322265625,
          10123.52734375,
          10133.13671875,
          10140.8193359375,
          10176.544921875,
          10149.3837890625,
          10120.6435546875,
          10089.5078125,
          10082.6640625,
          10119.7578125,
          10135.392578125,
          10117.99609375,
          10131.7685546875,
          10093.0537109375,
          10058.9619140625,
          10087.1708984375,
          10105.4365234375,
          10132.685546875,
          10139.9033203125,
          10136.22265625,
          10093.576171875,
          10068.0224609375,
          10103.560546875,
          10117.3984375,
          10122.041015625,
          10114.4873046875,
          10111.150390625,
          10116.2734375,
          10113.6025390625,
          10103.521484375,
          10118.966796875,
          10143.2578125,
          10143.0439453125,
          10141.8916015625,
          10137.0908203125,
          10111.9658203125,
          10092.916015625,
          10113.26171875,
          10122.7197265625,
          10128.166015625,
          10145.94140625,
          10112.326171875,
          10084.9833984375,
          10051.7900390625,
          10092.5087890625,
          10114.70703125,
          10116.0947265625,
          10121.65625,
          10085.3671875,
          10104.3330078125,
          10129.970703125,
          10137.91015625,
          10143.1171875,
          10113.0087890625,
          10110.544921875,
          10096.2890625,
          10090.66796875,
          10139.4365234375,
          10120.033203125,
          10134.2333984375,
          10146.6435546875,
          10150.552734375,
          10129.576171875,
          10114.060546875,
          10103.8759765625,
          10110.1142578125,
          10132.78125,
          10167.56640625,
          10163.4833984375,
          10125.123046875,
          10075.462890625,
          10068.9208984375,
          10124.421875,
          10142.2978515625,
          10152.40234375,
          10130.3505859375,
          10092.99609375,
          10070.1923828125,
          10094.5537109375,
          10127.912109375,
          10130.5888671875,
          10117.7392578125,
          10105.0517578125,
          10101.615234375,
          10108.1904296875,
          10133.19921875,
          10132.1376953125,
          10126.5908203125,
          10131.0087890625,
          10133.6318359375,
          10124.4638671875,
          10113.68359375,
          10099.138671875,
          10116.05078125,
          10119.8388671875,
          10155.896484375,
          10159.7255859375,
          10143.2724609375,
          10118.69140625,
          10087.888671875,
          10136.2119140625,
          10138.4443359375,
          10191.7861328125,
          10167.3271484375,
          10151.4208984375,
          10161.8349609375,
          10101.4208984375,
          10143.7216796875,
          10141.3896484375,
          10124.7216796875,
          10145.9482421875,
          10124.775390625,
          10118.43359375,
          10073.7099609375,
          10129.6982421875,
          10136.7919921875,
          10139.439453125,
          10112.5751953125,
          10101.0546875,
          10097.3994140625,
          10109.9775390625,
          10129.79296875,
          10126.853515625,
          10144.4208984375,
          10141.6025390625,
          10125.25,
          10115.5556640625,
          10121.5439453125,
          10116.505859375,
          10128.16796875,
          10170.4228515625,
          10153.3251953125,
          10123.2275390625,
          10113.5615234375,
          10096.2373046875,
          10151.8115234375,
          10140.328125,
          10143.45703125,
          10132.9345703125,
          10137.365234375,
          10148.4599609375,
          10168.80078125,
          10186.6416015625,
          10175.4521484375,
          10148.591796875,
          10145.6630859375,
          10139.0341796875,
          10130.5400390625,
          10143.646484375,
          10150.0029296875,
          10160.1376953125,
          10161.03515625,
          10157.2333984375,
          10129.5576171875,
          10110.384765625,
          10106.0185546875,
          10158.7392578125,
          10181.951171875,
          10168.4287109375,
          10164.1650390625,
          10161.0400390625,
          10137.197265625,
          10159.4609375,
          10197.1484375,
          10197.05078125,
          10199.505859375,
          10196.4169921875,
          10175.181640625,
          10159.07421875,
          10167.990234375,
          10194.412109375,
          10184.498046875,
          10177.5546875,
          10176.7783203125,
          10148.828125,
          10141.859375,
          10139.2138671875,
          10157.3359375,
          10161.642578125,
          10148.1826171875,
          10145.81640625,
          10129.8271484375,
          10119.232421875,
          10129.4658203125,
          10145.267578125,
          10164.359375,
          10147.982421875,
          10144.0966796875,
          10143.0078125,
          10139.2822265625,
          10146.4404296875,
          10174.615234375,
          10173.583984375,
          10180.310546875,
          10182.60546875,
          10174.1455078125,
          10160.6650390625,
          10162.1474609375,
          10179.8232421875,
          10180.9716796875,
          10176.673828125,
          10172.7275390625,
          10154.3056640625,
          10150.95703125,
          10137.521484375,
          10156.166015625,
          10159.0439453125,
          10199.6650390625,
          10160.25,
          10149.728515625,
          10154.0693359375,
          10166.490234375,
          10160.4501953125,
          10134.95703125,
          10169.009765625,
          10166.8759765625,
          10172.287109375,
          10150.4794921875,
          10155.4228515625,
          10135.4306640625,
          10136.287109375,
          10202.4853515625,
          10189.2841796875,
          10189.6943359375,
          10180.0859375,
          10168.8837890625,
          10156.2177734375,
          10160.9462890625,
          10181.6181640625,
          10173.5888671875,
          10167.3466796875,
          10156.40625,
          10171.1806640625,
          10196.63671875,
          10192.341796875,
          10138.0087890625,
          10157.5205078125,
          10141.2666015625,
          10118.6611328125,
          10124.689453125,
          10152.986328125,
          10167.4501953125,
          10195.48046875,
          10167.3466796875,
          10137.2080078125,
          10126.0341796875,
          10133.544921875,
          10127.140625,
          10141.6005859375,
          10178.3095703125,
          10171.4873046875,
          10161.099609375,
          10134.8720703125,
          10073.6201171875,
          10125.03515625,
          10145.83203125,
          10112.5517578125,
          10127.7587890625,
          10093.884765625,
          10090.2509765625,
          10082.8896484375,
          10148.0693359375,
          10148.619140625
         ]
        },
        {
         "line": {
          "color": "cyan"
         },
         "name": "val_preds",
         "type": "scatter",
         "x": [
          "2015-11-02T00:00:00",
          "2015-11-03T00:00:00",
          "2015-11-04T00:00:00",
          "2015-11-05T00:00:00",
          "2015-11-06T00:00:00",
          "2015-11-07T00:00:00",
          "2015-11-08T00:00:00",
          "2015-11-09T00:00:00",
          "2015-11-10T00:00:00",
          "2015-11-11T00:00:00",
          "2015-11-12T00:00:00",
          "2015-11-13T00:00:00",
          "2015-11-14T00:00:00",
          "2015-11-15T00:00:00",
          "2015-11-16T00:00:00",
          "2015-11-17T00:00:00",
          "2015-11-18T00:00:00",
          "2015-11-19T00:00:00",
          "2015-11-20T00:00:00",
          "2015-11-21T00:00:00",
          "2015-11-22T00:00:00",
          "2015-11-23T00:00:00",
          "2015-11-24T00:00:00",
          "2015-11-25T00:00:00",
          "2015-11-26T00:00:00",
          "2015-11-27T00:00:00",
          "2015-11-28T00:00:00",
          "2015-11-29T00:00:00",
          "2015-11-30T00:00:00",
          "2015-12-01T00:00:00"
         ],
         "y": [
          10113.44921875,
          10110.2099609375,
          10116.6611328125,
          10127.1708984375,
          10116.203125,
          10143.7392578125,
          10153.2451171875,
          10147.775390625,
          10155.6845703125,
          10185.3779296875,
          10133.037109375,
          10116.3173828125,
          10126.6484375,
          10128.4697265625,
          10147.1708984375,
          10168.2353515625,
          10159.642578125,
          10139.4619140625,
          10081.6796875,
          10111.041015625,
          10108.8662109375,
          10112.8955078125,
          10147.517578125,
          10136.833984375,
          10172.9833984375,
          10086.0458984375,
          10168.240234375,
          10144.91015625,
          10120.572265625,
          10108.548828125
         ]
        },
        {
         "line": {
          "color": "orange"
         },
         "name": "test_preds",
         "type": "scatter",
         "x": [
          "2015-12-02T00:00:00",
          "2015-12-03T00:00:00",
          "2015-12-04T00:00:00",
          "2015-12-05T00:00:00",
          "2015-12-06T00:00:00",
          "2015-12-07T00:00:00",
          "2015-12-08T00:00:00",
          "2015-12-09T00:00:00",
          "2015-12-10T00:00:00",
          "2015-12-11T00:00:00",
          "2015-12-12T00:00:00",
          "2015-12-13T00:00:00",
          "2015-12-14T00:00:00",
          "2015-12-15T00:00:00",
          "2015-12-16T00:00:00",
          "2015-12-17T00:00:00",
          "2015-12-18T00:00:00",
          "2015-12-19T00:00:00",
          "2015-12-20T00:00:00",
          "2015-12-21T00:00:00",
          "2015-12-22T00:00:00",
          "2015-12-23T00:00:00",
          "2015-12-24T00:00:00",
          "2015-12-25T00:00:00",
          "2015-12-26T00:00:00",
          "2015-12-27T00:00:00",
          "2015-12-28T00:00:00",
          "2015-12-29T00:00:00",
          "2015-12-30T00:00:00",
          "2015-12-31T00:00:00"
         ],
         "y": [
          10092.7783203125,
          10132.7744140625,
          10113.931640625,
          10126.1494140625,
          10113.7216796875,
          10125.580078125,
          10145.2509765625,
          10131.2353515625,
          10062.0693359375,
          10081.62109375,
          10125.03125,
          10142.20703125,
          10136.333984375,
          10146.5419921875,
          10144.12109375,
          10127.81640625,
          10080.591796875,
          10112.1337890625,
          10115.564453125,
          10098.568359375,
          10129.06640625,
          10122.0126953125,
          10107.044921875,
          10112.201171875,
          10194.67578125,
          10197.099609375,
          10167.0673828125,
          10188.76171875,
          10188.6728515625,
          10179.08203125
         ]
        },
        {
         "line": {
          "color": "brown"
         },
         "name": "train_target",
         "type": "scatter",
         "x": [
          "2015-01-15T00:00:00",
          "2015-01-16T00:00:00",
          "2015-01-17T00:00:00",
          "2015-01-18T00:00:00",
          "2015-01-19T00:00:00",
          "2015-01-20T00:00:00",
          "2015-01-21T00:00:00",
          "2015-01-22T00:00:00",
          "2015-01-23T00:00:00",
          "2015-01-24T00:00:00",
          "2015-01-25T00:00:00",
          "2015-01-26T00:00:00",
          "2015-01-27T00:00:00",
          "2015-01-28T00:00:00",
          "2015-01-29T00:00:00",
          "2015-01-30T00:00:00",
          "2015-01-31T00:00:00",
          "2015-02-01T00:00:00",
          "2015-02-02T00:00:00",
          "2015-02-03T00:00:00",
          "2015-02-04T00:00:00",
          "2015-02-05T00:00:00",
          "2015-02-06T00:00:00",
          "2015-02-07T00:00:00",
          "2015-02-08T00:00:00",
          "2015-02-09T00:00:00",
          "2015-02-10T00:00:00",
          "2015-02-11T00:00:00",
          "2015-02-12T00:00:00",
          "2015-02-13T00:00:00",
          "2015-02-14T00:00:00",
          "2015-02-15T00:00:00",
          "2015-02-16T00:00:00",
          "2015-02-17T00:00:00",
          "2015-02-18T00:00:00",
          "2015-02-19T00:00:00",
          "2015-02-20T00:00:00",
          "2015-02-21T00:00:00",
          "2015-02-22T00:00:00",
          "2015-02-23T00:00:00",
          "2015-02-24T00:00:00",
          "2015-02-25T00:00:00",
          "2015-02-26T00:00:00",
          "2015-02-27T00:00:00",
          "2015-02-28T00:00:00",
          "2015-03-01T00:00:00",
          "2015-03-02T00:00:00",
          "2015-03-03T00:00:00",
          "2015-03-04T00:00:00",
          "2015-03-05T00:00:00",
          "2015-03-06T00:00:00",
          "2015-03-07T00:00:00",
          "2015-03-08T00:00:00",
          "2015-03-09T00:00:00",
          "2015-03-10T00:00:00",
          "2015-03-11T00:00:00",
          "2015-03-12T00:00:00",
          "2015-03-13T00:00:00",
          "2015-03-14T00:00:00",
          "2015-03-15T00:00:00",
          "2015-03-16T00:00:00",
          "2015-03-17T00:00:00",
          "2015-03-18T00:00:00",
          "2015-03-19T00:00:00",
          "2015-03-20T00:00:00",
          "2015-03-21T00:00:00",
          "2015-03-22T00:00:00",
          "2015-03-23T00:00:00",
          "2015-03-24T00:00:00",
          "2015-03-25T00:00:00",
          "2015-03-26T00:00:00",
          "2015-03-27T00:00:00",
          "2015-03-28T00:00:00",
          "2015-03-29T00:00:00",
          "2015-03-30T00:00:00",
          "2015-03-31T00:00:00",
          "2015-04-01T00:00:00",
          "2015-04-02T00:00:00",
          "2015-04-03T00:00:00",
          "2015-04-04T00:00:00",
          "2015-04-05T00:00:00",
          "2015-04-06T00:00:00",
          "2015-04-07T00:00:00",
          "2015-04-08T00:00:00",
          "2015-04-09T00:00:00",
          "2015-04-10T00:00:00",
          "2015-04-11T00:00:00",
          "2015-04-12T00:00:00",
          "2015-04-13T00:00:00",
          "2015-04-14T00:00:00",
          "2015-04-15T00:00:00",
          "2015-04-16T00:00:00",
          "2015-04-17T00:00:00",
          "2015-04-18T00:00:00",
          "2015-04-19T00:00:00",
          "2015-04-20T00:00:00",
          "2015-04-21T00:00:00",
          "2015-04-22T00:00:00",
          "2015-04-23T00:00:00",
          "2015-04-24T00:00:00",
          "2015-04-25T00:00:00",
          "2015-04-26T00:00:00",
          "2015-04-27T00:00:00",
          "2015-04-28T00:00:00",
          "2015-04-29T00:00:00",
          "2015-04-30T00:00:00",
          "2015-05-01T00:00:00",
          "2015-05-02T00:00:00",
          "2015-05-03T00:00:00",
          "2015-05-04T00:00:00",
          "2015-05-05T00:00:00",
          "2015-05-06T00:00:00",
          "2015-05-07T00:00:00",
          "2015-05-08T00:00:00",
          "2015-05-09T00:00:00",
          "2015-05-10T00:00:00",
          "2015-05-11T00:00:00",
          "2015-05-12T00:00:00",
          "2015-05-13T00:00:00",
          "2015-05-14T00:00:00",
          "2015-05-15T00:00:00",
          "2015-05-16T00:00:00",
          "2015-05-17T00:00:00",
          "2015-05-18T00:00:00",
          "2015-05-19T00:00:00",
          "2015-05-20T00:00:00",
          "2015-05-21T00:00:00",
          "2015-05-22T00:00:00",
          "2015-05-23T00:00:00",
          "2015-05-24T00:00:00",
          "2015-05-25T00:00:00",
          "2015-05-26T00:00:00",
          "2015-05-27T00:00:00",
          "2015-05-28T00:00:00",
          "2015-05-29T00:00:00",
          "2015-05-30T00:00:00",
          "2015-05-31T00:00:00",
          "2015-06-01T00:00:00",
          "2015-06-02T00:00:00",
          "2015-06-03T00:00:00",
          "2015-06-04T00:00:00",
          "2015-06-05T00:00:00",
          "2015-06-06T00:00:00",
          "2015-06-07T00:00:00",
          "2015-06-08T00:00:00",
          "2015-06-09T00:00:00",
          "2015-06-10T00:00:00",
          "2015-06-11T00:00:00",
          "2015-06-12T00:00:00",
          "2015-06-13T00:00:00",
          "2015-06-14T00:00:00",
          "2015-06-15T00:00:00",
          "2015-06-16T00:00:00",
          "2015-06-17T00:00:00",
          "2015-06-18T00:00:00",
          "2015-06-19T00:00:00",
          "2015-06-20T00:00:00",
          "2015-06-21T00:00:00",
          "2015-06-22T00:00:00",
          "2015-06-23T00:00:00",
          "2015-06-24T00:00:00",
          "2015-06-25T00:00:00",
          "2015-06-26T00:00:00",
          "2015-06-27T00:00:00",
          "2015-06-28T00:00:00",
          "2015-06-29T00:00:00",
          "2015-06-30T00:00:00",
          "2015-07-01T00:00:00",
          "2015-07-02T00:00:00",
          "2015-07-03T00:00:00",
          "2015-07-04T00:00:00",
          "2015-07-05T00:00:00",
          "2015-07-06T00:00:00",
          "2015-07-07T00:00:00",
          "2015-07-08T00:00:00",
          "2015-07-09T00:00:00",
          "2015-07-10T00:00:00",
          "2015-07-11T00:00:00",
          "2015-07-12T00:00:00",
          "2015-07-13T00:00:00",
          "2015-07-14T00:00:00",
          "2015-07-15T00:00:00",
          "2015-07-16T00:00:00",
          "2015-07-17T00:00:00",
          "2015-07-18T00:00:00",
          "2015-07-19T00:00:00",
          "2015-07-20T00:00:00",
          "2015-07-21T00:00:00",
          "2015-07-22T00:00:00",
          "2015-07-23T00:00:00",
          "2015-07-24T00:00:00",
          "2015-07-25T00:00:00",
          "2015-07-26T00:00:00",
          "2015-07-27T00:00:00",
          "2015-07-28T00:00:00",
          "2015-07-29T00:00:00",
          "2015-07-30T00:00:00",
          "2015-07-31T00:00:00",
          "2015-08-01T00:00:00",
          "2015-08-02T00:00:00",
          "2015-08-03T00:00:00",
          "2015-08-04T00:00:00",
          "2015-08-05T00:00:00",
          "2015-08-06T00:00:00",
          "2015-08-07T00:00:00",
          "2015-08-08T00:00:00",
          "2015-08-09T00:00:00",
          "2015-08-10T00:00:00",
          "2015-08-11T00:00:00",
          "2015-08-12T00:00:00",
          "2015-08-13T00:00:00",
          "2015-08-14T00:00:00",
          "2015-08-15T00:00:00",
          "2015-08-16T00:00:00",
          "2015-08-17T00:00:00",
          "2015-08-18T00:00:00",
          "2015-08-19T00:00:00",
          "2015-08-20T00:00:00",
          "2015-08-21T00:00:00",
          "2015-08-22T00:00:00",
          "2015-08-23T00:00:00",
          "2015-08-24T00:00:00",
          "2015-08-25T00:00:00",
          "2015-08-26T00:00:00",
          "2015-08-27T00:00:00",
          "2015-08-28T00:00:00",
          "2015-08-29T00:00:00",
          "2015-08-30T00:00:00",
          "2015-08-31T00:00:00",
          "2015-09-01T00:00:00",
          "2015-09-02T00:00:00",
          "2015-09-03T00:00:00",
          "2015-09-04T00:00:00",
          "2015-09-05T00:00:00",
          "2015-09-06T00:00:00",
          "2015-09-07T00:00:00",
          "2015-09-08T00:00:00",
          "2015-09-09T00:00:00",
          "2015-09-10T00:00:00",
          "2015-09-11T00:00:00",
          "2015-09-12T00:00:00",
          "2015-09-13T00:00:00",
          "2015-09-14T00:00:00",
          "2015-09-15T00:00:00",
          "2015-09-16T00:00:00",
          "2015-09-17T00:00:00",
          "2015-09-18T00:00:00",
          "2015-09-19T00:00:00",
          "2015-09-20T00:00:00",
          "2015-09-21T00:00:00",
          "2015-09-22T00:00:00",
          "2015-09-23T00:00:00",
          "2015-09-24T00:00:00",
          "2015-09-25T00:00:00",
          "2015-09-26T00:00:00",
          "2015-09-27T00:00:00",
          "2015-09-28T00:00:00",
          "2015-09-29T00:00:00",
          "2015-09-30T00:00:00",
          "2015-10-01T00:00:00",
          "2015-10-02T00:00:00",
          "2015-10-03T00:00:00",
          "2015-10-04T00:00:00",
          "2015-10-05T00:00:00",
          "2015-10-06T00:00:00",
          "2015-10-07T00:00:00",
          "2015-10-08T00:00:00",
          "2015-10-09T00:00:00",
          "2015-10-10T00:00:00",
          "2015-10-11T00:00:00",
          "2015-10-12T00:00:00",
          "2015-10-13T00:00:00",
          "2015-10-14T00:00:00",
          "2015-10-15T00:00:00",
          "2015-10-16T00:00:00",
          "2015-10-17T00:00:00",
          "2015-10-18T00:00:00",
          "2015-10-19T00:00:00",
          "2015-10-20T00:00:00",
          "2015-10-21T00:00:00",
          "2015-10-22T00:00:00",
          "2015-10-23T00:00:00",
          "2015-10-24T00:00:00",
          "2015-10-25T00:00:00",
          "2015-10-26T00:00:00",
          "2015-10-27T00:00:00",
          "2015-10-28T00:00:00",
          "2015-10-29T00:00:00",
          "2015-10-30T00:00:00",
          "2015-10-31T00:00:00",
          "2015-11-01T00:00:00"
         ],
         "y": [
          12339,
          11861,
          8280,
          7195,
          10602,
          12242,
          12086,
          11949,
          11910,
          8235,
          7186,
          11728,
          11882,
          11602,
          11967,
          11571,
          7987,
          7139,
          11480,
          12079,
          11924,
          11821,
          11656,
          8285,
          7265,
          11937,
          12291,
          11911,
          12285,
          11321,
          8390,
          7508,
          11038,
          11952,
          12061,
          11968,
          11864,
          8343,
          7254,
          11260,
          11941,
          11828,
          11672,
          11596,
          7989,
          7273,
          11609,
          12402,
          11927,
          11681,
          11612,
          7980,
          6929,
          11678,
          12282,
          11850,
          12042,
          10940,
          8217,
          7202,
          11537,
          12312,
          11807,
          11721,
          12040,
          8080,
          7171,
          11674,
          12333,
          11872,
          12065,
          11629,
          8071,
          7125,
          11500,
          12362,
          11596,
          12296,
          11234,
          7981,
          6821,
          11455,
          12334,
          11976,
          11874,
          11724,
          8092,
          7141,
          11503,
          12309,
          11794,
          11947,
          11718,
          8028,
          7180,
          11513,
          12173,
          11917,
          11877,
          11749,
          8101,
          7178,
          11494,
          12221,
          11775,
          11831,
          12178,
          8075,
          7195,
          11724,
          12618,
          11924,
          11649,
          11810,
          8216,
          7246,
          11549,
          12400,
          11572,
          11793,
          12306,
          8337,
          7354,
          11708,
          12469,
          12352,
          12246,
          12147,
          8267,
          7261,
          7746,
          12242,
          12845,
          12722,
          12168,
          8431,
          7367,
          11793,
          11994,
          11890,
          11918,
          12303,
          8313,
          7230,
          11938,
          12479,
          12123,
          12029,
          12064,
          8104,
          7292,
          12348,
          12400,
          12192,
          12323,
          11767,
          8451,
          7580,
          11883,
          12351,
          12292,
          12416,
          12152,
          8652,
          7371,
          11961,
          12932,
          13033,
          13038,
          10375,
          7944,
          7164,
          12088,
          13426,
          12788,
          12517,
          12396,
          8769,
          7591,
          11835,
          12862,
          12853,
          12502,
          12291,
          8546,
          7681,
          12424,
          13264,
          12519,
          12852,
          12612,
          8748,
          7836,
          12416,
          13240,
          12739,
          12797,
          12269,
          8851,
          7907,
          12449,
          13149,
          12793,
          12872,
          12770,
          8956,
          7726,
          12333,
          13010,
          12960,
          12591,
          12861,
          8938,
          7896,
          12337,
          13197,
          12966,
          13002,
          12834,
          9153,
          7821,
          12274,
          13149,
          12729,
          12829,
          12719,
          8772,
          7805,
          12142,
          13231,
          12799,
          12839,
          12862,
          8950,
          7778,
          8127,
          12823,
          13949,
          13925,
          12295,
          9062,
          7900,
          12699,
          13439,
          13136,
          13319,
          13229,
          9195,
          8078,
          12567,
          13047,
          12595,
          12942,
          12792,
          8927,
          7778,
          12158,
          12791,
          12284,
          13043,
          12399,
          8579,
          7530,
          12166,
          12520,
          12429,
          12458,
          12282,
          8550,
          7571,
          11633,
          12094,
          12205,
          12522,
          11917,
          8233,
          7211,
          11388,
          12500,
          12093,
          12013,
          11942,
          8239,
          7288,
          11923,
          12485,
          12266,
          11950,
          11529,
          8049,
          7731
         ]
        },
        {
         "line": {
          "color": "black"
         },
         "name": "val_target",
         "type": "scatter",
         "x": [
          "2015-11-02T00:00:00",
          "2015-11-03T00:00:00",
          "2015-11-04T00:00:00",
          "2015-11-05T00:00:00",
          "2015-11-06T00:00:00",
          "2015-11-07T00:00:00",
          "2015-11-08T00:00:00",
          "2015-11-09T00:00:00",
          "2015-11-10T00:00:00",
          "2015-11-11T00:00:00",
          "2015-11-12T00:00:00",
          "2015-11-13T00:00:00",
          "2015-11-14T00:00:00",
          "2015-11-15T00:00:00",
          "2015-11-16T00:00:00",
          "2015-11-17T00:00:00",
          "2015-11-18T00:00:00",
          "2015-11-19T00:00:00",
          "2015-11-20T00:00:00",
          "2015-11-21T00:00:00",
          "2015-11-22T00:00:00",
          "2015-11-23T00:00:00",
          "2015-11-24T00:00:00",
          "2015-11-25T00:00:00",
          "2015-11-26T00:00:00",
          "2015-11-27T00:00:00",
          "2015-11-28T00:00:00",
          "2015-11-29T00:00:00",
          "2015-11-30T00:00:00",
          "2015-12-01T00:00:00"
         ],
         "y": [
          12236,
          12524,
          12279,
          12452,
          11909,
          8517,
          7324,
          11688,
          12451,
          12311,
          12329,
          11643,
          8221,
          7378,
          11791,
          12321,
          12230,
          12504,
          12495,
          8392,
          7427,
          12419,
          13051,
          11745,
          7332,
          8942,
          7734,
          7230,
          12214,
          13185
         ]
        },
        {
         "line": {
          "color": "green"
         },
         "name": "test_target",
         "type": "scatter",
         "x": [
          "2015-12-02T00:00:00",
          "2015-12-03T00:00:00",
          "2015-12-04T00:00:00",
          "2015-12-05T00:00:00",
          "2015-12-06T00:00:00",
          "2015-12-07T00:00:00",
          "2015-12-08T00:00:00",
          "2015-12-09T00:00:00",
          "2015-12-10T00:00:00",
          "2015-12-11T00:00:00",
          "2015-12-12T00:00:00",
          "2015-12-13T00:00:00",
          "2015-12-14T00:00:00",
          "2015-12-15T00:00:00",
          "2015-12-16T00:00:00",
          "2015-12-17T00:00:00",
          "2015-12-18T00:00:00",
          "2015-12-19T00:00:00",
          "2015-12-20T00:00:00",
          "2015-12-21T00:00:00",
          "2015-12-22T00:00:00",
          "2015-12-23T00:00:00",
          "2015-12-24T00:00:00",
          "2015-12-25T00:00:00",
          "2015-12-26T00:00:00",
          "2015-12-27T00:00:00",
          "2015-12-28T00:00:00",
          "2015-12-29T00:00:00",
          "2015-12-30T00:00:00",
          "2015-12-31T00:00:00"
         ],
         "y": [
          12708,
          12281,
          11828,
          8262,
          7194,
          11567,
          12328,
          11857,
          12259,
          11406,
          8073,
          7262,
          11753,
          12437,
          12282,
          12339,
          12247,
          8368,
          7361,
          12692,
          13131,
          11595,
          8714,
          6515,
          7294,
          7518,
          13100,
          13458,
          13100,
          11608
         ]
        }
       ],
       "layout": {
        "height": 600,
        "template": {
         "data": {
          "bar": [
           {
            "error_x": {
             "color": "#2a3f5f"
            },
            "error_y": {
             "color": "#2a3f5f"
            },
            "marker": {
             "line": {
              "color": "#E5ECF6",
              "width": 0.5
             },
             "pattern": {
              "fillmode": "overlay",
              "size": 10,
              "solidity": 0.2
             }
            },
            "type": "bar"
           }
          ],
          "barpolar": [
           {
            "marker": {
             "line": {
              "color": "#E5ECF6",
              "width": 0.5
             },
             "pattern": {
              "fillmode": "overlay",
              "size": 10,
              "solidity": 0.2
             }
            },
            "type": "barpolar"
           }
          ],
          "carpet": [
           {
            "aaxis": {
             "endlinecolor": "#2a3f5f",
             "gridcolor": "white",
             "linecolor": "white",
             "minorgridcolor": "white",
             "startlinecolor": "#2a3f5f"
            },
            "baxis": {
             "endlinecolor": "#2a3f5f",
             "gridcolor": "white",
             "linecolor": "white",
             "minorgridcolor": "white",
             "startlinecolor": "#2a3f5f"
            },
            "type": "carpet"
           }
          ],
          "choropleth": [
           {
            "colorbar": {
             "outlinewidth": 0,
             "ticks": ""
            },
            "type": "choropleth"
           }
          ],
          "contour": [
           {
            "colorbar": {
             "outlinewidth": 0,
             "ticks": ""
            },
            "colorscale": [
             [
              0,
              "#0d0887"
             ],
             [
              0.1111111111111111,
              "#46039f"
             ],
             [
              0.2222222222222222,
              "#7201a8"
             ],
             [
              0.3333333333333333,
              "#9c179e"
             ],
             [
              0.4444444444444444,
              "#bd3786"
             ],
             [
              0.5555555555555556,
              "#d8576b"
             ],
             [
              0.6666666666666666,
              "#ed7953"
             ],
             [
              0.7777777777777778,
              "#fb9f3a"
             ],
             [
              0.8888888888888888,
              "#fdca26"
             ],
             [
              1,
              "#f0f921"
             ]
            ],
            "type": "contour"
           }
          ],
          "contourcarpet": [
           {
            "colorbar": {
             "outlinewidth": 0,
             "ticks": ""
            },
            "type": "contourcarpet"
           }
          ],
          "heatmap": [
           {
            "colorbar": {
             "outlinewidth": 0,
             "ticks": ""
            },
            "colorscale": [
             [
              0,
              "#0d0887"
             ],
             [
              0.1111111111111111,
              "#46039f"
             ],
             [
              0.2222222222222222,
              "#7201a8"
             ],
             [
              0.3333333333333333,
              "#9c179e"
             ],
             [
              0.4444444444444444,
              "#bd3786"
             ],
             [
              0.5555555555555556,
              "#d8576b"
             ],
             [
              0.6666666666666666,
              "#ed7953"
             ],
             [
              0.7777777777777778,
              "#fb9f3a"
             ],
             [
              0.8888888888888888,
              "#fdca26"
             ],
             [
              1,
              "#f0f921"
             ]
            ],
            "type": "heatmap"
           }
          ],
          "heatmapgl": [
           {
            "colorbar": {
             "outlinewidth": 0,
             "ticks": ""
            },
            "colorscale": [
             [
              0,
              "#0d0887"
             ],
             [
              0.1111111111111111,
              "#46039f"
             ],
             [
              0.2222222222222222,
              "#7201a8"
             ],
             [
              0.3333333333333333,
              "#9c179e"
             ],
             [
              0.4444444444444444,
              "#bd3786"
             ],
             [
              0.5555555555555556,
              "#d8576b"
             ],
             [
              0.6666666666666666,
              "#ed7953"
             ],
             [
              0.7777777777777778,
              "#fb9f3a"
             ],
             [
              0.8888888888888888,
              "#fdca26"
             ],
             [
              1,
              "#f0f921"
             ]
            ],
            "type": "heatmapgl"
           }
          ],
          "histogram": [
           {
            "marker": {
             "pattern": {
              "fillmode": "overlay",
              "size": 10,
              "solidity": 0.2
             }
            },
            "type": "histogram"
           }
          ],
          "histogram2d": [
           {
            "colorbar": {
             "outlinewidth": 0,
             "ticks": ""
            },
            "colorscale": [
             [
              0,
              "#0d0887"
             ],
             [
              0.1111111111111111,
              "#46039f"
             ],
             [
              0.2222222222222222,
              "#7201a8"
             ],
             [
              0.3333333333333333,
              "#9c179e"
             ],
             [
              0.4444444444444444,
              "#bd3786"
             ],
             [
              0.5555555555555556,
              "#d8576b"
             ],
             [
              0.6666666666666666,
              "#ed7953"
             ],
             [
              0.7777777777777778,
              "#fb9f3a"
             ],
             [
              0.8888888888888888,
              "#fdca26"
             ],
             [
              1,
              "#f0f921"
             ]
            ],
            "type": "histogram2d"
           }
          ],
          "histogram2dcontour": [
           {
            "colorbar": {
             "outlinewidth": 0,
             "ticks": ""
            },
            "colorscale": [
             [
              0,
              "#0d0887"
             ],
             [
              0.1111111111111111,
              "#46039f"
             ],
             [
              0.2222222222222222,
              "#7201a8"
             ],
             [
              0.3333333333333333,
              "#9c179e"
             ],
             [
              0.4444444444444444,
              "#bd3786"
             ],
             [
              0.5555555555555556,
              "#d8576b"
             ],
             [
              0.6666666666666666,
              "#ed7953"
             ],
             [
              0.7777777777777778,
              "#fb9f3a"
             ],
             [
              0.8888888888888888,
              "#fdca26"
             ],
             [
              1,
              "#f0f921"
             ]
            ],
            "type": "histogram2dcontour"
           }
          ],
          "mesh3d": [
           {
            "colorbar": {
             "outlinewidth": 0,
             "ticks": ""
            },
            "type": "mesh3d"
           }
          ],
          "parcoords": [
           {
            "line": {
             "colorbar": {
              "outlinewidth": 0,
              "ticks": ""
             }
            },
            "type": "parcoords"
           }
          ],
          "pie": [
           {
            "automargin": true,
            "type": "pie"
           }
          ],
          "scatter": [
           {
            "fillpattern": {
             "fillmode": "overlay",
             "size": 10,
             "solidity": 0.2
            },
            "type": "scatter"
           }
          ],
          "scatter3d": [
           {
            "line": {
             "colorbar": {
              "outlinewidth": 0,
              "ticks": ""
             }
            },
            "marker": {
             "colorbar": {
              "outlinewidth": 0,
              "ticks": ""
             }
            },
            "type": "scatter3d"
           }
          ],
          "scattercarpet": [
           {
            "marker": {
             "colorbar": {
              "outlinewidth": 0,
              "ticks": ""
             }
            },
            "type": "scattercarpet"
           }
          ],
          "scattergeo": [
           {
            "marker": {
             "colorbar": {
              "outlinewidth": 0,
              "ticks": ""
             }
            },
            "type": "scattergeo"
           }
          ],
          "scattergl": [
           {
            "marker": {
             "colorbar": {
              "outlinewidth": 0,
              "ticks": ""
             }
            },
            "type": "scattergl"
           }
          ],
          "scattermapbox": [
           {
            "marker": {
             "colorbar": {
              "outlinewidth": 0,
              "ticks": ""
             }
            },
            "type": "scattermapbox"
           }
          ],
          "scatterpolar": [
           {
            "marker": {
             "colorbar": {
              "outlinewidth": 0,
              "ticks": ""
             }
            },
            "type": "scatterpolar"
           }
          ],
          "scatterpolargl": [
           {
            "marker": {
             "colorbar": {
              "outlinewidth": 0,
              "ticks": ""
             }
            },
            "type": "scatterpolargl"
           }
          ],
          "scatterternary": [
           {
            "marker": {
             "colorbar": {
              "outlinewidth": 0,
              "ticks": ""
             }
            },
            "type": "scatterternary"
           }
          ],
          "surface": [
           {
            "colorbar": {
             "outlinewidth": 0,
             "ticks": ""
            },
            "colorscale": [
             [
              0,
              "#0d0887"
             ],
             [
              0.1111111111111111,
              "#46039f"
             ],
             [
              0.2222222222222222,
              "#7201a8"
             ],
             [
              0.3333333333333333,
              "#9c179e"
             ],
             [
              0.4444444444444444,
              "#bd3786"
             ],
             [
              0.5555555555555556,
              "#d8576b"
             ],
             [
              0.6666666666666666,
              "#ed7953"
             ],
             [
              0.7777777777777778,
              "#fb9f3a"
             ],
             [
              0.8888888888888888,
              "#fdca26"
             ],
             [
              1,
              "#f0f921"
             ]
            ],
            "type": "surface"
           }
          ],
          "table": [
           {
            "cells": {
             "fill": {
              "color": "#EBF0F8"
             },
             "line": {
              "color": "white"
             }
            },
            "header": {
             "fill": {
              "color": "#C8D4E3"
             },
             "line": {
              "color": "white"
             }
            },
            "type": "table"
           }
          ]
         },
         "layout": {
          "annotationdefaults": {
           "arrowcolor": "#2a3f5f",
           "arrowhead": 0,
           "arrowwidth": 1
          },
          "autotypenumbers": "strict",
          "coloraxis": {
           "colorbar": {
            "outlinewidth": 0,
            "ticks": ""
           }
          },
          "colorscale": {
           "diverging": [
            [
             0,
             "#8e0152"
            ],
            [
             0.1,
             "#c51b7d"
            ],
            [
             0.2,
             "#de77ae"
            ],
            [
             0.3,
             "#f1b6da"
            ],
            [
             0.4,
             "#fde0ef"
            ],
            [
             0.5,
             "#f7f7f7"
            ],
            [
             0.6,
             "#e6f5d0"
            ],
            [
             0.7,
             "#b8e186"
            ],
            [
             0.8,
             "#7fbc41"
            ],
            [
             0.9,
             "#4d9221"
            ],
            [
             1,
             "#276419"
            ]
           ],
           "sequential": [
            [
             0,
             "#0d0887"
            ],
            [
             0.1111111111111111,
             "#46039f"
            ],
            [
             0.2222222222222222,
             "#7201a8"
            ],
            [
             0.3333333333333333,
             "#9c179e"
            ],
            [
             0.4444444444444444,
             "#bd3786"
            ],
            [
             0.5555555555555556,
             "#d8576b"
            ],
            [
             0.6666666666666666,
             "#ed7953"
            ],
            [
             0.7777777777777778,
             "#fb9f3a"
            ],
            [
             0.8888888888888888,
             "#fdca26"
            ],
            [
             1,
             "#f0f921"
            ]
           ],
           "sequentialminus": [
            [
             0,
             "#0d0887"
            ],
            [
             0.1111111111111111,
             "#46039f"
            ],
            [
             0.2222222222222222,
             "#7201a8"
            ],
            [
             0.3333333333333333,
             "#9c179e"
            ],
            [
             0.4444444444444444,
             "#bd3786"
            ],
            [
             0.5555555555555556,
             "#d8576b"
            ],
            [
             0.6666666666666666,
             "#ed7953"
            ],
            [
             0.7777777777777778,
             "#fb9f3a"
            ],
            [
             0.8888888888888888,
             "#fdca26"
            ],
            [
             1,
             "#f0f921"
            ]
           ]
          },
          "colorway": [
           "#636efa",
           "#EF553B",
           "#00cc96",
           "#ab63fa",
           "#FFA15A",
           "#19d3f3",
           "#FF6692",
           "#B6E880",
           "#FF97FF",
           "#FECB52"
          ],
          "font": {
           "color": "#2a3f5f"
          },
          "geo": {
           "bgcolor": "white",
           "lakecolor": "white",
           "landcolor": "#E5ECF6",
           "showlakes": true,
           "showland": true,
           "subunitcolor": "white"
          },
          "hoverlabel": {
           "align": "left"
          },
          "hovermode": "closest",
          "mapbox": {
           "style": "light"
          },
          "paper_bgcolor": "white",
          "plot_bgcolor": "#E5ECF6",
          "polar": {
           "angularaxis": {
            "gridcolor": "white",
            "linecolor": "white",
            "ticks": ""
           },
           "bgcolor": "#E5ECF6",
           "radialaxis": {
            "gridcolor": "white",
            "linecolor": "white",
            "ticks": ""
           }
          },
          "scene": {
           "xaxis": {
            "backgroundcolor": "#E5ECF6",
            "gridcolor": "white",
            "gridwidth": 2,
            "linecolor": "white",
            "showbackground": true,
            "ticks": "",
            "zerolinecolor": "white"
           },
           "yaxis": {
            "backgroundcolor": "#E5ECF6",
            "gridcolor": "white",
            "gridwidth": 2,
            "linecolor": "white",
            "showbackground": true,
            "ticks": "",
            "zerolinecolor": "white"
           },
           "zaxis": {
            "backgroundcolor": "#E5ECF6",
            "gridcolor": "white",
            "gridwidth": 2,
            "linecolor": "white",
            "showbackground": true,
            "ticks": "",
            "zerolinecolor": "white"
           }
          },
          "shapedefaults": {
           "line": {
            "color": "#2a3f5f"
           }
          },
          "ternary": {
           "aaxis": {
            "gridcolor": "white",
            "linecolor": "white",
            "ticks": ""
           },
           "baxis": {
            "gridcolor": "white",
            "linecolor": "white",
            "ticks": ""
           },
           "bgcolor": "#E5ECF6",
           "caxis": {
            "gridcolor": "white",
            "linecolor": "white",
            "ticks": ""
           }
          },
          "title": {
           "x": 0.05
          },
          "xaxis": {
           "automargin": true,
           "gridcolor": "white",
           "linecolor": "white",
           "ticks": "",
           "title": {
            "standoff": 15
           },
           "zerolinecolor": "white",
           "zerolinewidth": 2
          },
          "yaxis": {
           "automargin": true,
           "gridcolor": "white",
           "linecolor": "white",
           "ticks": "",
           "title": {
            "standoff": 15
           },
           "zerolinecolor": "white",
           "zerolinewidth": 2
          }
         }
        }
       }
      }
     },
     "metadata": {},
     "output_type": "display_data"
    }
   ],
   "source": [
    "with torch.no_grad():\n",
    "    train_preds = best_model.forward(X_train_tensor).numpy()*15000\n",
    "    train_preds = pd.DataFrame(train_preds, index=X_train.index)\n",
    "    val_preds = best_model.forward(X_val_tensor).numpy()*15000\n",
    "    val_preds = pd.DataFrame(val_preds, index=X_val.index)\n",
    "    test_preds = best_model.forward(X_test_tensor).numpy()*15000\n",
    "    test_preds = pd.DataFrame(test_preds, index=X_test.index)\n",
    "\n",
    "import plotly.io as pio\n",
    "import plotly.graph_objects as go\n",
    "\n",
    "fig = go.Figure()\n",
    "fig.add_trace(\n",
    "    go.Scatter(x=train_preds.index, y=train_preds[0],  name=\"train_preds\", line=dict(color='blue'))\n",
    ")\n",
    "\n",
    "fig.add_trace(\n",
    "    go.Scatter(x=val_preds.index, y=val_preds[0],  name=\"val_preds\", line=dict(color='cyan'))\n",
    ")\n",
    "fig.add_trace(\n",
    "    go.Scatter(x=test_preds.index, y=test_preds[0],  name=\"test_preds\", line=dict(color='orange'))\n",
    ")\n",
    "\n",
    "fig.add_trace(\n",
    "    go.Scatter(x=pd.DataFrame(y_train).index, y=pd.DataFrame(y_train)[\"births\"],  name=\"train_target\", line=dict(color='brown'))\n",
    ")\n",
    "fig.add_trace(\n",
    "    go.Scatter(x=pd.DataFrame(y_val).index, y=pd.DataFrame(y_val)[\"births\"],  name=\"val_target\", line=dict(color='black'))\n",
    ")\n",
    "fig.add_trace(\n",
    "    go.Scatter(x=pd.DataFrame(y_test).index, y=pd.DataFrame(y_test)[\"births\"],  name=\"test_target\", line=dict(color='green'))\n",
    ")\n",
    "fig.update_layout(height=600)\n",
    "fig.show()"
   ]
  },
  {
   "cell_type": "code",
   "execution_count": 18,
   "metadata": {},
   "outputs": [
    {
     "name": "stdout",
     "output_type": "stream",
     "text": [
      "Train RMSE: 2043.7253163964383\n",
      "Validation RMSE: 2427.1784778293795\n",
      "Test RMSE: 2892.7766897365586\n"
     ]
    }
   ],
   "source": [
    "from sklearn.metrics import mean_squared_error\n",
    "\n",
    "# Convert DataFrame predictions back to NumPy arrays\n",
    "train_preds = train_preds.values\n",
    "val_preds = val_preds.values\n",
    "test_preds = test_preds.values\n",
    "\n",
    "# Convert DataFrame targets back to NumPy arrays\n",
    "y_train_numpy = y_train.values\n",
    "y_val_numpy = y_val.values\n",
    "y_test_numpy = y_test.values\n",
    "\n",
    "# Calculate RMSE scores for training, validation, and test sets\n",
    "train_rmse = np.sqrt(mean_squared_error(y_train_numpy, train_preds))\n",
    "val_rmse = np.sqrt(mean_squared_error(y_val_numpy, val_preds))\n",
    "test_rmse = np.sqrt(mean_squared_error(y_test_numpy, test_preds))\n",
    "\n",
    "print(\"Train RMSE:\", train_rmse)\n",
    "print(\"Validation RMSE:\", val_rmse)\n",
    "print(\"Test RMSE:\", test_rmse)\n"
   ]
  },
  {
   "cell_type": "code",
   "execution_count": null,
   "metadata": {},
   "outputs": [],
   "source": []
  },
  {
   "cell_type": "code",
   "execution_count": null,
   "metadata": {},
   "outputs": [],
   "source": []
  }
 ],
 "metadata": {
  "kernelspec": {
   "display_name": ".env",
   "language": "python",
   "name": "python3"
  },
  "language_info": {
   "codemirror_mode": {
    "name": "ipython",
    "version": 3
   },
   "file_extension": ".py",
   "mimetype": "text/x-python",
   "name": "python",
   "nbconvert_exporter": "python",
   "pygments_lexer": "ipython3",
   "version": "3.8.10"
  },
  "orig_nbformat": 4
 },
 "nbformat": 4,
 "nbformat_minor": 2
}
